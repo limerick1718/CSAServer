{
 "cells": [
  {
   "cell_type": "code",
   "execution_count": 1,
   "metadata": {},
   "outputs": [
    {
     "name": "stdout",
     "output_type": "stream",
     "text": [
      "/home/jkliu/Projects/CSAServer\n"
     ]
    },
    {
     "name": "stderr",
     "output_type": "stream",
     "text": [
      "/home/jkliu/Projects/CSAServer/venv/lib/python3.12/site-packages/IPython/core/magics/osm.py:417: UserWarning: This is now an optional IPython functionality, setting dhist requires you to install the `pickleshare` library.\n",
      "  self.shell.db['dhist'] = compress_dhist(dhist)[-100:]\n"
     ]
    }
   ],
   "source": [
    "%cd /home/jkliu/Projects/CSAServer"
   ]
  },
  {
   "cell_type": "code",
   "execution_count": 2,
   "metadata": {},
   "outputs": [],
   "source": [
    "from core import util\n",
    "import os\n",
    "\n",
    "\n",
    "def get_activities_with_screenshots(app: str):\n",
    "    _, activities = util.parse_manifest(app)\n",
    "    screenshot_dir = f\"results/screenshots/{app}\"\n",
    "    screenshot_files = [file.replace('.png', '') for file in os.listdir(screenshot_dir)]\n",
    "    intersection = set(set(activities) & set(screenshot_files))\n",
    "    return intersection"
   ]
  },
  {
   "cell_type": "code",
   "execution_count": 3,
   "metadata": {},
   "outputs": [
    {
     "name": "stdout",
     "output_type": "stream",
     "text": [
      "{'org.wikipedia.descriptions.DescriptionEditTutorialActivity', 'org.wikipedia.gallery.GalleryActivity', 'org.wikipedia.descriptions.DescriptionEditActivity', 'org.wikipedia.usercontrib.UserContribListActivity', 'org.wikipedia.talk.template.TalkTemplatesActivity', 'org.wikipedia.talk.TalkTopicActivity', 'org.wikipedia.language.LangLinksActivity'}\n"
     ]
    }
   ],
   "source": [
    "from core.ATG import ATG\n",
    "import os\n",
    "\n",
    "\n",
    "package_name = \"org.wikipedia.dev\"\n",
    "screenshots_old = get_activities_with_screenshots(f\"{package_name}-{50443}\")\n",
    "screenshots_new = get_activities_with_screenshots(f\"{package_name}-{50496}\")\n",
    "diff = set(screenshots_new) - set(screenshots_old)\n",
    "print(diff)\n"
   ]
  },
  {
   "cell_type": "code",
   "execution_count": 6,
   "metadata": {},
   "outputs": [
    {
     "name": "stdout",
     "output_type": "stream",
     "text": [
      "{'org.wikipedia.places.PlacesActivity', 'org.wikipedia.suggestededits.SuggestedEditsRecentEditsOnboardingActivity', 'org.wikipedia.talk.template.TalkTemplatesActivity', 'org.wikipedia.activity.SingleWebViewActivity'}\n",
      "org.wikipedia.page.PageActivity -> org.wikipedia.activity.SingleWebViewActivity\n",
      "org.wikipedia.usercontrib.UserContribListActivity -> org.wikipedia.places.PlacesActivity\n",
      "org.wikipedia.notifications.NotificationActivity -> org.wikipedia.places.PlacesActivity\n",
      "org.wikipedia.talk.TalkReplyActivity -> org.wikipedia.places.PlacesActivity\n",
      "org.wikipedia.diff.ArticleEditDetailsActivity -> org.wikipedia.talk.template.TalkTemplatesActivity\n",
      "org.wikipedia.talk.TalkTopicActivity -> org.wikipedia.places.PlacesActivity\n",
      "org.wikipedia.suggestededits.SuggestedEditsRecentEditsActivity -> org.wikipedia.suggestededits.SuggestedEditsRecentEditsOnboardingActivity\n",
      "org.wikipedia.activity.SingleWebViewActivity -> org.wikipedia.places.PlacesActivity\n"
     ]
    }
   ],
   "source": [
    "new_atg = ATG()\n",
    "new_atg_result = new_atg.add_app_transitions(package_name, str(50496))\n",
    "new_tgts = set()\n",
    "for atg in new_atg_result:\n",
    "    src, tgt = atg.split(\" -> \")\n",
    "    new_tgts.add(tgt)\n",
    "old_atg = ATG()\n",
    "old_atg_result = old_atg.add_app_transitions(package_name, str(50443))\n",
    "old_tgts = set()\n",
    "for atg in old_atg_result:\n",
    "    src, tgt = atg.split(\" -> \")\n",
    "    old_tgts.add(tgt)\n",
    "new_activities = set(new_tgts) - set(old_tgts)\n",
    "print(new_activities)\n",
    "diff_atg = set(new_atg_result) - set(old_atg_result)\n",
    "for atg in diff_atg:\n",
    "    src, tgt = atg.split(\" -> \")\n",
    "    if tgt in new_activities:\n",
    "        print(atg)\n",
    "    # if tgt in diff:\n",
    "    #     print(atg)"
   ]
  },
  {
   "cell_type": "markdown",
   "metadata": {},
   "source": []
  }
 ],
 "metadata": {
  "kernelspec": {
   "display_name": "venv",
   "language": "python",
   "name": "python3"
  },
  "language_info": {
   "codemirror_mode": {
    "name": "ipython",
    "version": 3
   },
   "file_extension": ".py",
   "mimetype": "text/x-python",
   "name": "python",
   "nbconvert_exporter": "python",
   "pygments_lexer": "ipython3",
   "version": "3.12.2"
  }
 },
 "nbformat": 4,
 "nbformat_minor": 2
}
