{
 "cells": [
  {
   "cell_type": "code",
   "metadata": {
    "ExecuteTime": {
     "end_time": "2024-07-18T09:06:20.426750Z",
     "start_time": "2024-07-18T09:06:20.417713Z"
    }
   },
   "source": [
    "%cd /home/jkliu/Projects/CSAServer"
   ],
   "outputs": [
    {
     "name": "stdout",
     "output_type": "stream",
     "text": [
      "/home/jkliu/Projects/CSAServer\n"
     ]
    },
    {
     "name": "stderr",
     "output_type": "stream",
     "text": [
      "/home/jkliu/Projects/CSAServer/venv/lib/python3.12/site-packages/IPython/core/magics/osm.py:417: UserWarning: This is now an optional IPython functionality, setting dhist requires you to install the `pickleshare` library.\n",
      "  self.shell.db['dhist'] = compress_dhist(dhist)[-100:]\n"
     ]
    }
   ],
   "execution_count": 1
  },
  {
   "cell_type": "code",
   "metadata": {
    "ExecuteTime": {
     "end_time": "2024-07-18T09:06:43.788199Z",
     "start_time": "2024-07-18T09:06:38.341373Z"
    }
   },
   "source": [
    "from fastapi.testclient import TestClient\n",
    "from main import app\n",
    "\n",
    "client = TestClient(app)"
   ],
   "outputs": [
    {
     "name": "stderr",
     "output_type": "stream",
     "text": [
      "cg_container: INFO     Load cg for org.woheller69.spritpreise-24\n",
      "cg_container: INFO     Load cg for org.wikipedia.alpha-50476\n",
      "cg_container: INFO     Load cg for com.amaze.filemanager-117\n",
      "cg_container: INFO     Load cg for com.zhiliaoapp.musically-2022903010\n",
      "cg_container: INFO     Load cg for org.woheller69.spritpreise-18\n",
      "Main        : INFO     Start logging\n"
     ]
    }
   ],
   "execution_count": 2
  },
  {
   "cell_type": "code",
   "metadata": {
    "ExecuteTime": {
     "end_time": "2024-07-18T09:06:52.181579Z",
     "start_time": "2024-07-18T09:06:52.150316Z"
    }
   },
   "source": [
    "import json\n",
    "\n",
    "# test register\n",
    "user = {\n",
    "   \"username\": \"test\",\n",
    "   \"email\": \"test@qwq.com\",\n",
    "   \"password\": \"asdfa\"\n",
    "}\n",
    "user_json = json.dumps(user)\n",
    "request = client.build_request(\n",
    "    method=\"post\",\n",
    "    url=\"/register\",\n",
    "    data=user_json\n",
    ")\n",
    "response = client.send(request)\n",
    "result = response.json()\n",
    "print(result)"
   ],
   "outputs": [
    {
     "name": "stderr",
     "output_type": "stream",
     "text": [
      "Main        : INFO     begin register: test@qwq.com\n",
      "httpx       : INFO     HTTP Request: POST http://testserver/register \"HTTP/1.1 400 Bad Request\"\n"
     ]
    },
    {
     "name": "stdout",
     "output_type": "stream",
     "text": [
      "{'detail': 'Email already registered'}\n"
     ]
    }
   ],
   "execution_count": 3
  },
  {
   "cell_type": "code",
   "metadata": {},
   "source": [
    "import json\n",
    "\n",
    "# test login\n",
    "request_dict = {\n",
    "   \"email\": \"test@qwq.com\",\n",
    "   \"password\": \"asdfa\"\n",
    "}\n",
    "request_json = json.dumps(request_dict)\n",
    "request = client.build_request(\n",
    "    method=\"post\",\n",
    "    url=\"/login\",\n",
    "    data=request_json\n",
    ")\n",
    "response = client.send(request)\n",
    "result = response.json()\n",
    "access_token = result['access_token']\n",
    "refresh_token = result['refresh_token']\n",
    "print(f\"access_token: {access_token}\")\n",
    "print(f\"refresh_token: {refresh_token}\")"
   ],
   "outputs": [],
   "execution_count": null
  },
  {
   "cell_type": "code",
   "metadata": {},
   "source": [
    "# test getusers\n",
    "request = client.build_request(\n",
    "    method=\"get\",\n",
    "    url=\"/getusers\",\n",
    "    headers={\"Authorization\": f\"Bearer {access_token}\"}\n",
    ")\n",
    "response = client.send(request)\n",
    "result = response.json()\n",
    "print(result)"
   ],
   "outputs": [],
   "execution_count": null
  },
  {
   "cell_type": "code",
   "metadata": {},
   "source": [],
   "outputs": [],
   "execution_count": null
  }
 ],
 "metadata": {
  "kernelspec": {
   "display_name": "venv",
   "language": "python",
   "name": "python3"
  },
  "language_info": {
   "codemirror_mode": {
    "name": "ipython",
    "version": 3
   },
   "file_extension": ".py",
   "mimetype": "text/x-python",
   "name": "python",
   "nbconvert_exporter": "python",
   "pygments_lexer": "ipython3",
   "version": "3.12.2"
  }
 },
 "nbformat": 4,
 "nbformat_minor": 2
}
