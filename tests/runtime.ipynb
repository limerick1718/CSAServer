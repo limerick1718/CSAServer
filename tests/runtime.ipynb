{
 "cells": [
  {
   "cell_type": "code",
   "execution_count": 1,
   "metadata": {},
   "outputs": [
    {
     "name": "stdout",
     "output_type": "stream",
     "text": [
      "/home/jkliu/Projects/CSAServer\n"
     ]
    },
    {
     "name": "stderr",
     "output_type": "stream",
     "text": [
      "/home/jkliu/Projects/CSAServer/venv/lib/python3.12/site-packages/IPython/core/magics/osm.py:417: UserWarning: This is now an optional IPython functionality, setting dhist requires you to install the `pickleshare` library.\n",
      "  self.shell.db['dhist'] = compress_dhist(dhist)[-100:]\n"
     ]
    }
   ],
   "source": [
    "%cd /home/jkliu/Projects/CSAServer"
   ]
  },
  {
   "cell_type": "code",
   "execution_count": 2,
   "metadata": {},
   "outputs": [
    {
     "name": "stderr",
     "output_type": "stream",
     "text": [
      "cg_container: INFO     Load cg for org.woheller69.spritpreise-24\n",
      "cg_container: INFO     Load cg for org.wikipedia.alpha-50476\n",
      "cg_container: INFO     Load cg for com.amaze.filemanager-117\n",
      "cg_container: INFO     Load cg for com.zhiliaoapp.musically-2022903010\n",
      "cg_container: INFO     Load cg for org.woheller69.spritpreise-18\n"
     ]
    }
   ],
   "source": [
    "from fastapi.testclient import TestClient\n",
    "from main import app\n",
    "\n",
    "client = TestClient(app)"
   ]
  },
  {
   "cell_type": "code",
   "execution_count": 3,
   "metadata": {},
   "outputs": [
    {
     "name": "stderr",
     "output_type": "stream",
     "text": [
      "httpx       : INFO     HTTP Request: POST http://testserver/get_permission_old?package_name=org.woheller69.spritpreise&version_code=24 \"HTTP/1.1 200 OK\"\n"
     ]
    },
    {
     "name": "stderr",
     "output_type": "stream",
     "text": [
      "httpx       : INFO     HTTP Request: POST http://testserver/get_permission?package_name=com.zhiliaoapp.musically&version_code=2022903010 \"HTTP/1.1 200 OK\"\n"
     ]
    },
    {
     "name": "stdout",
     "output_type": "stream",
     "text": [
      "['android.permission.INTERNET', 'android.permission.WAKE_LOCK', 'android.permission.ACCESS_FINE_LOCATION', 'android.permission.ACCESS_COARSE_LOCATION', 'android.permission.ACCESS_BACKGROUND_LOCATION']\n",
      "['android.permission.SYSTEM_ALERT_WINDOW', 'android.permission.RECORD_AUDIO', 'android.permission.CAMERA', 'android.permission.WAKE_LOCK', 'android.permission.WRITE_EXTERNAL_STORAGE', 'android.permission.FOREGROUND_SERVICE', 'android.permission.INTERNET']\n"
     ]
    }
   ],
   "source": [
    "response = client.post(\"/get_permission_old?package_name=org.woheller69.spritpreise&version_code=24\")\n",
    "permissions = response.json()[\"permissions\"]\n",
    "print(permissions)\n",
    "\n",
    "response = client.post(\"/get_permission?package_name=com.zhiliaoapp.musically&version_code=2022903010\")\n",
    "permissions = response.json()[\"permissions\"]\n",
    "print(permissions)"
   ]
  },
  {
   "cell_type": "code",
   "execution_count": 5,
   "metadata": {},
   "outputs": [
    {
     "name": "stderr",
     "output_type": "stream",
     "text": [
      "Main        : INFO     Debloat permission android.permission.ACCESS_COARSE_LOCATION for org.woheller69.spritpreise-24\n",
      "MethodFinder: INFO     Debloat permission ['android.permission.ACCESS_COARSE_LOCATION'] for org.woheller69.spritpreise-24\n",
      "MethodFinder: INFO     Debloat permission android.permission.ACCESS_COARSE_LOCATION for org.woheller69.spritpreise-24\n",
      "MethodFinder: INFO     permission_methods: ['<androidx.appcompat.app.TwilightManager: android.location.Location getLastKnownLocationForProvider(java.lang.String)>']\n",
      "httpx       : INFO     HTTP Request: POST http://testserver/debloat_permission?package_name=org.woheller69.spritpreise&version_code=24&permissions=android.permission.ACCESS_COARSE_LOCATION \"HTTP/1.1 200 OK\"\n"
     ]
    },
    {
     "name": "stdout",
     "output_type": "stream",
     "text": [
      "{'<androidx.appcompat.app.TwilightManager: android.location.Location getLastKnownLocationForProvider(java.lang.String)>'}\n"
     ]
    }
   ],
   "source": [
    "response = client.post(\"/debloat_permission?package_name=org.woheller69.spritpreise&version_code=24&permissions=android.permission.ACCESS_COARSE_LOCATION\")\n",
    "print(set(response.json()[\"to_remove_methods\"]))"
   ]
  }
 ],
 "metadata": {
  "kernelspec": {
   "display_name": "venv",
   "language": "python",
   "name": "python3"
  },
  "language_info": {
   "codemirror_mode": {
    "name": "ipython",
    "version": 3
   },
   "file_extension": ".py",
   "mimetype": "text/x-python",
   "name": "python",
   "nbconvert_exporter": "python",
   "pygments_lexer": "ipython3",
   "version": "3.12.2"
  }
 },
 "nbformat": 4,
 "nbformat_minor": 2
}
