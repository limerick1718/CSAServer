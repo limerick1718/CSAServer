{
 "cells": [
  {
   "cell_type": "code",
   "metadata": {
    "ExecuteTime": {
     "end_time": "2024-07-18T09:04:49.142365Z",
     "start_time": "2024-07-18T09:04:49.135164Z"
    }
   },
   "source": [
    "%cd /home/jkliu/Projects/CSAServer"
   ],
   "outputs": [
    {
     "name": "stdout",
     "output_type": "stream",
     "text": [
      "/home/jkliu/Projects/CSAServer\n"
     ]
    },
    {
     "name": "stderr",
     "output_type": "stream",
     "text": [
      "/home/jkliu/Projects/CSAServer/venv/lib/python3.12/site-packages/IPython/core/magics/osm.py:417: UserWarning: This is now an optional IPython functionality, setting dhist requires you to install the `pickleshare` library.\n",
      "  self.shell.db['dhist'] = compress_dhist(dhist)[-100:]\n"
     ]
    }
   ],
   "execution_count": 3
  },
  {
   "metadata": {},
   "cell_type": "code",
   "outputs": [],
   "execution_count": null,
   "source": ""
  },
  {
   "cell_type": "code",
   "metadata": {
    "ExecuteTime": {
     "end_time": "2024-07-18T09:04:51.322620Z",
     "start_time": "2024-07-18T09:04:51.316876Z"
    }
   },
   "source": [
    "from fastapi.testclient import TestClient\n",
    "from main import app\n",
    "\n",
    "client = TestClient(app)"
   ],
   "outputs": [],
   "execution_count": 4
  },
  {
   "cell_type": "code",
   "metadata": {
    "ExecuteTime": {
     "end_time": "2024-07-18T09:04:57.794769Z",
     "start_time": "2024-07-18T09:04:57.581821Z"
    }
   },
   "source": [
    "response = client.post(\"/get_permission_old?package_name=org.woheller69.spritpreise&version_code=24\")\n",
    "permissions = response.json()[\"permissions\"]\n",
    "print(permissions)\n",
    "\n",
    "response = client.post(\"/get_permission?package_name=com.zhiliaoapp.musically&version_code=2022903010\")\n",
    "permissions = response.json()[\"permissions\"]\n",
    "print(permissions)"
   ],
   "outputs": [
    {
     "name": "stderr",
     "output_type": "stream",
     "text": [
      "httpx       : INFO     HTTP Request: POST http://testserver/get_permission_old?package_name=org.woheller69.spritpreise&version_code=24 \"HTTP/1.1 404 Not Found\"\n"
     ]
    },
    {
     "ename": "KeyError",
     "evalue": "'permissions'",
     "output_type": "error",
     "traceback": [
      "\u001B[0;31m---------------------------------------------------------------------------\u001B[0m",
      "\u001B[0;31mKeyError\u001B[0m                                  Traceback (most recent call last)",
      "Cell \u001B[0;32mIn[5], line 2\u001B[0m\n\u001B[1;32m      1\u001B[0m response \u001B[38;5;241m=\u001B[39m client\u001B[38;5;241m.\u001B[39mpost(\u001B[38;5;124m\"\u001B[39m\u001B[38;5;124m/get_permission_old?package_name=org.woheller69.spritpreise&version_code=24\u001B[39m\u001B[38;5;124m\"\u001B[39m)\n\u001B[0;32m----> 2\u001B[0m permissions \u001B[38;5;241m=\u001B[39m \u001B[43mresponse\u001B[49m\u001B[38;5;241;43m.\u001B[39;49m\u001B[43mjson\u001B[49m\u001B[43m(\u001B[49m\u001B[43m)\u001B[49m\u001B[43m[\u001B[49m\u001B[38;5;124;43m\"\u001B[39;49m\u001B[38;5;124;43mpermissions\u001B[39;49m\u001B[38;5;124;43m\"\u001B[39;49m\u001B[43m]\u001B[49m\n\u001B[1;32m      3\u001B[0m \u001B[38;5;28mprint\u001B[39m(permissions)\n\u001B[1;32m      5\u001B[0m response \u001B[38;5;241m=\u001B[39m client\u001B[38;5;241m.\u001B[39mpost(\u001B[38;5;124m\"\u001B[39m\u001B[38;5;124m/get_permission?package_name=com.zhiliaoapp.musically&version_code=2022903010\u001B[39m\u001B[38;5;124m\"\u001B[39m)\n",
      "\u001B[0;31mKeyError\u001B[0m: 'permissions'"
     ]
    }
   ],
   "execution_count": 5
  },
  {
   "cell_type": "code",
   "execution_count": 5,
   "metadata": {},
   "outputs": [
    {
     "name": "stderr",
     "output_type": "stream",
     "text": [
      "Main        : INFO     Debloat permission android.permission.ACCESS_COARSE_LOCATION for org.woheller69.spritpreise-24\n",
      "MethodFinder: INFO     Debloat permission ['android.permission.ACCESS_COARSE_LOCATION'] for org.woheller69.spritpreise-24\n",
      "MethodFinder: INFO     Debloat permission android.permission.ACCESS_COARSE_LOCATION for org.woheller69.spritpreise-24\n",
      "MethodFinder: INFO     permission_methods: ['<androidx.appcompat.app.TwilightManager: android.location.Location getLastKnownLocationForProvider(java.lang.String)>']\n",
      "httpx       : INFO     HTTP Request: POST http://testserver/debloat_permission?package_name=org.woheller69.spritpreise&version_code=24&permissions=android.permission.ACCESS_COARSE_LOCATION \"HTTP/1.1 200 OK\"\n"
     ]
    },
    {
     "name": "stdout",
     "output_type": "stream",
     "text": [
      "{'<androidx.appcompat.app.TwilightManager: android.location.Location getLastKnownLocationForProvider(java.lang.String)>'}\n"
     ]
    }
   ],
   "source": [
    "response = client.post(\"/debloat_permission?package_name=org.woheller69.spritpreise&version_code=24&permissions=android.permission.ACCESS_COARSE_LOCATION\")\n",
    "print(set(response.json()[\"to_remove_methods\"]))"
   ]
  }
 ],
 "metadata": {
  "kernelspec": {
   "display_name": "venv",
   "language": "python",
   "name": "python3"
  },
  "language_info": {
   "codemirror_mode": {
    "name": "ipython",
    "version": 3
   },
   "file_extension": ".py",
   "mimetype": "text/x-python",
   "name": "python",
   "nbconvert_exporter": "python",
   "pygments_lexer": "ipython3",
   "version": "3.12.2"
  }
 },
 "nbformat": 4,
 "nbformat_minor": 2
}
