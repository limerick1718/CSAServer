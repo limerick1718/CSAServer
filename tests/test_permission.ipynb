{
 "cells": [
  {
   "cell_type": "code",
   "execution_count": 1,
   "metadata": {
    "ExecuteTime": {
     "end_time": "2024-10-13T12:13:50.449742Z",
     "start_time": "2024-10-13T12:13:50.445429Z"
    }
   },
   "outputs": [
    {
     "name": "stdout",
     "output_type": "stream",
     "text": [
      "/home/jkliu/Projects/CSAServer\n"
     ]
    },
    {
     "name": "stderr",
     "output_type": "stream",
     "text": [
      "/home/jkliu/Projects/CSAServer/venv/lib/python3.10/site-packages/IPython/core/magics/osm.py:417: UserWarning: This is now an optional IPython functionality, setting dhist requires you to install the `pickleshare` library.\n",
      "  self.shell.db['dhist'] = compress_dhist(dhist)[-100:]\n"
     ]
    }
   ],
   "source": [
    "%cd /home/jkliu/Projects/CSAServer"
   ]
  },
  {
   "cell_type": "code",
   "execution_count": 2,
   "metadata": {
    "ExecuteTime": {
     "end_time": "2024-09-23T13:01:57.457959Z",
     "start_time": "2024-09-23T13:01:54.660140Z"
    }
   },
   "outputs": [
    {
     "name": "stderr",
     "output_type": "stream",
     "text": [
      "cg_container: INFO     Load cg for com.socialnmobile.dictapps.notepad.color.note-15600\n",
      "cg_container: INFO     Load cg for com.amaze.filemanager-117\n",
      "cg_container: INFO     Load cg for com.imdb.mobile-109070200\n",
      "cg_container: INFO     Load cg for com.shaiban.audioplayer.mplayer-1007102000\n",
      "cg_container: INFO     Load cg for org.woheller69.spritpreise-24\n",
      "cg_container: INFO     Load cg for org.wikipedia.alpha-50476\n",
      "cg_container: INFO     Load cg for video.downloader.videodownloader-128\n",
      "cg_container: INFO     Load cg for com.adsk.sketchbook-454083\n",
      "cg_container: INFO     Load cg for org.mozilla.firefox-2016048879\n",
      "cg_container: INFO     Load cg for com.dictionary-629\n",
      "cg_container: INFO     Load cg for org.wikipedia.dev-50496\n",
      "cg_container: INFO     Load cg for com.zhiliaoapp.musically-2022903010\n",
      "cg_container: INFO     Load cg for com.accuweather.android-200300002\n",
      "cg_container: INFO     Load cg for todolist.scheduleplanner.dailyplanner.todo.reminders-1000244\n",
      "cg_container: INFO     Load cg for org.wikipedia.dev-50496_bac\n",
      "cg_container: INFO     Load cg for com.mxtech.videoplayer.ad-2001002445\n",
      "cg_container: INFO     Load cg for org.wikipedia.dev-50480\n",
      "cg_container: INFO     Load cg for org.wikipedia.dev-50443\n",
      "cg_container: INFO     Load cg for org.woheller69.spritpreise-18\n",
      "Main        : INFO     Start logging\n"
     ]
    }
   ],
   "source": [
    "from fastapi.testclient import TestClient\n",
    "from main import app\n",
    "\n",
    "client = TestClient(app)"
   ]
  },
  {
   "cell_type": "code",
   "execution_count": 4,
   "metadata": {
    "ExecuteTime": {
     "end_time": "2024-09-23T13:02:02.658592Z",
     "start_time": "2024-09-23T13:02:02.297410Z"
    }
   },
   "outputs": [
    {
     "name": "stderr",
     "output_type": "stream",
     "text": [
      "httpx       : INFO     HTTP Request: POST http://testserver/get_permission?package_name=org.wikipedia.dev&version_code=50496 \"HTTP/1.1 200 OK\"\n"
     ]
    },
    {
     "name": "stdout",
     "output_type": "stream",
     "text": [
      "['android.permission.FOREGROUND_SERVICE', 'android.permission.POST_NOTIFICATIONS', 'android.permission.WAKE_LOCK', 'android.permission.READ_EXTERNAL_STORAGE', 'android.permission.ACCESS_FINE_LOCATION', 'android.permission.WRITE_EXTERNAL_STORAGE', 'android.permission.ACCESS_COARSE_LOCATION', 'android.permission.ACCESS_NETWORK_STATE']\n",
      "[]\n"
     ]
    }
   ],
   "source": [
    "# test get_acitivities\n",
    "request = client.build_request(\n",
    "    method=\"post\",\n",
    "    url=\"get_permission?package_name=org.wikipedia.dev&version_code=50496\"\n",
    ")\n",
    "response = client.send(request)\n",
    "result = response.json()\n",
    "print(result[\"permissions\"])\n",
    "print(result[\"last_debloated_permissions\"])\n"
   ]
  },
  {
   "cell_type": "code",
   "execution_count": 5,
   "metadata": {},
   "outputs": [
    {
     "name": "stderr",
     "output_type": "stream",
     "text": [
      "httpx       : INFO     HTTP Request: POST http://testserver/get_permission?package_name=com.shaiban.audioplayer.mplayer&version_code=1007102000 \"HTTP/1.1 200 OK\"\n"
     ]
    },
    {
     "name": "stdout",
     "output_type": "stream",
     "text": [
      "['android.permission.REQUEST_IGNORE_BATTERY_OPTIMIZATIONS', 'android.permission.FOREGROUND_SERVICE', 'android.permission.BLUETOOTH_ADVERTISE', 'android.permission.ACCESS_COARSE_LOCATION', 'android.permission.BLUETOOTH', 'android.permission.CHANGE_WIFI_STATE', 'android.permission.READ_MEDIA_AUDIO', 'android.permission.ACCESS_FINE_LOCATION', 'android.permission.BLUETOOTH_ADMIN', 'android.permission.ACCESS_NETWORK_STATE', 'android.permission.ACCESS_WIFI_STATE', 'android.permission.INTERNET', 'android.permission.READ_EXTERNAL_STORAGE', 'android.permission.NEARBY_WIFI_DEVICES', 'android.permission.SCHEDULE_EXACT_ALARM', 'android.permission.BLUETOOTH_CONNECT', 'android.permission.READ_MEDIA_VIDEO', 'android.permission.WRITE_SETTINGS', 'android.permission.CHANGE_NETWORK_STATE', 'android.permission.BLUETOOTH_SCAN', 'android.permission.SYSTEM_ALERT_WINDOW', 'android.permission.WAKE_LOCK', 'android.permission.READ_MEDIA_IMAGES', 'android.permission.WRITE_EXTERNAL_STORAGE']\n",
      "[]\n"
     ]
    }
   ],
   "source": [
    "# test get_acitivities\n",
    "request = client.build_request(\n",
    "    method=\"post\",\n",
    "    url=\"get_permission?package_name=com.shaiban.audioplayer.mplayer&version_code=1007102000\"\n",
    ")\n",
    "response = client.send(request)\n",
    "result = response.json()\n",
    "print(result[\"permissions\"])\n",
    "print(result[\"last_debloated_permissions\"])\n"
   ]
  },
  {
   "cell_type": "code",
   "execution_count": 8,
   "metadata": {},
   "outputs": [
    {
     "name": "stderr",
     "output_type": "stream",
     "text": [
      "Main        : INFO     Debloat permission android.permission.ACCESS_FINE_LOCATION,android.permission.ACCESS_COARSE_LOCATION for com.shaiban.audioplayer.mplayer-1007102000\n",
      "MethodFinder: INFO     Debloat permission ['android.permission.ACCESS_FINE_LOCATION', 'android.permission.ACCESS_COARSE_LOCATION'] for com.shaiban.audioplayer.mplayer-1007102000\n",
      "httpx       : INFO     HTTP Request: POST http://testserver/debloat_permission?package_name=com.shaiban.audioplayer.mplayer&version_code=1007102000&permissions=android.permission.ACCESS_FINE_LOCATION,android.permission.ACCESS_COARSE_LOCATION \"HTTP/1.1 200 OK\"\n"
     ]
    },
    {
     "name": "stdout",
     "output_type": "stream",
     "text": [
      "['<com.inmobi.media.t6: java.util.HashMap c()>', '<com.inmobi.media.t6: boolean d()>', '<androidx.appcompat.app.i0: android.location.Location b()>', '<com.inmobi.media.ve: boolean a()>', '<com.inmobi.media.kc: void d()>', '<com.applovin.impl.sdk.s: boolean f()>', '<com.inmobi.media.t6: java.util.HashMap a(android.location.Location,boolean,android.location.Location)>', '<com.inmobi.sdk.InMobiSdk: void a(android.content.Context,com.inmobi.sdk.SdkInitializationListener,java.lang.String,org.json.JSONObject)>', '<com.google.android.gms.nearby.connection.ConnectionsStatusCodes: java.lang.String getStatusCodeString(int)>', '<com.applovin.impl.sdk.s: boolean c()>', '<com.google.android.gms.internal.ads.zzcgl: void onGeolocationPermissionsShowPrompt(java.lang.String,android.webkit.GeolocationPermissions$Callback)>', '<bo.o: void <clinit>()>', '<com.inmobi.sdk.InMobiSdk: void b()>', '<com.inmobi.media.d2: boolean b()>']\n",
      "['android.permission.ACCESS_FINE_LOCATION', 'android.permission.ACCESS_COARSE_LOCATION']\n"
     ]
    }
   ],
   "source": [
    "import os\n",
    "# test get_acitivities\n",
    "app_name = \"com.shaiban.audioplayer.mplayer\"\n",
    "version_code = \"1007102000\"\n",
    "result_dir = \"tests/results/temp_debloated\"\n",
    "\n",
    "if os.path.exists(result_dir):\n",
    "    os.system(f\"rm -r {result_dir}\")\n",
    "os.makedirs(result_dir)\n",
    "\n",
    "from datetime import datetime\n",
    "import os\n",
    "request = client.build_request(\n",
    "    method=\"post\",\n",
    "    url=f\"debloat_permission?package_name={app_name}&version_code={version_code}&permissions=android.permission.ACCESS_FINE_LOCATION,android.permission.ACCESS_COARSE_LOCATION\"\n",
    ")\n",
    "response = client.send(request)\n",
    "result = response.json()\n",
    "to_remove_methods = result[\"to_remove_methods\"]\n",
    "print(to_remove_methods)\n",
    "print(result[\"to_remove_permissions\"])\n",
    "\n"
   ]
  },
  {
   "cell_type": "code",
   "execution_count": 4,
   "metadata": {},
   "outputs": [],
   "source": [
    "import os\n",
    "\n",
    "\n",
    "def sign_align_new_apk(input_apk):\n",
    "    aligned_apk = input_apk.replace(\".apk\", \"_aligned_tmp.apk\")\n",
    "    output_apk = input_apk.replace(\".apk\", \"_signed.apk\")\n",
    "    temp_file = input_apk.replace(\".apk\", \"_signed.apk.idsig\")\n",
    "    os.system(f\"zipalign -f 4 {input_apk} {aligned_apk}\")\n",
    "    os.system(f\"apksigner sign --ks Apksigner --ks-pass pass:60948491 --out {output_apk} {aligned_apk}\")\n",
    "    # os.system(f\"zip -d {output_apk} META-INF/CERT.SF META-INF/CERT.RSA\")\n",
    "    # os.system(f\"mv {output_apk} {input_apk}\")\n",
    "    # os.system(f\"rm {aligned_apk}\")\n",
    "    # os.system(f\"rm {temp_file}\")"
   ]
  },
  {
   "cell_type": "code",
   "execution_count": 6,
   "metadata": {},
   "outputs": [
    {
     "name": "stderr",
     "output_type": "stream",
     "text": [
      "Main        : INFO     Debloat permission android.permission.ACCESS_FINE_LOCATION,android.permission.ACCESS_COARSE_LOCATION for org.wikipedia.dev-50496\n",
      "MethodFinder: INFO     Debloat permission ['android.permission.ACCESS_FINE_LOCATION', 'android.permission.ACCESS_COARSE_LOCATION'] for org.wikipedia.dev-50496\n",
      "httpx       : INFO     HTTP Request: POST http://testserver/debloat_permission?package_name=org.wikipedia.dev&version_code=50496&permissions=android.permission.ACCESS_FINE_LOCATION,android.permission.ACCESS_COARSE_LOCATION \"HTTP/1.1 200 OK\"\n"
     ]
    },
    {
     "name": "stdout",
     "output_type": "stream",
     "text": [
      "['<org.maplibre.android.location.permissions.PermissionsManager: boolean isFineLocationPermissionGranted(android.content.Context)>', '<org.wikipedia.places.PlacesFragment: boolean haveLocationPermissions()>', '<org.maplibre.android.location.permissions.PermissionsManager: boolean isCoarseLocationPermissionGranted(android.content.Context)>', '<org.wikipedia.places.PlacesFragment: void locationPermissionRequest$lambda$2(org.wikipedia.places.PlacesFragment,java.util.Map)>', '<org.wikipedia.places.PlacesFragment: void onCreateView$lambda$13(org.wikipedia.places.PlacesFragment,android.view.View)>', '<androidx.appcompat.app.TwilightManager: android.location.Location getLastKnownLocation()>', '<org.maplibre.android.location.permissions.PermissionsManager: void requestLocationPermissions(android.app.Activity,boolean,boolean)>', '<org.wikipedia.places.PlacesFragment: void onViewCreated$lambda$25$lambda$24(org.wikipedia.places.PlacesFragment,org.maplibre.android.maps.MapLibreMap,org.maplibre.android.maps.Style)>', '<org.maplibre.android.location.permissions.PermissionsManager: void requestLocationPermissions(android.app.Activity)>']\n",
      "['android.permission.ACCESS_FINE_LOCATION', 'android.permission.ACCESS_COARSE_LOCATION']\n",
      "WARNING: sun.reflect.Reflection.getCallerClass is not supported. This will impact performance.\n",
      "APK path: apks/org.wikipedia.dev-50496.apk\n"
     ]
    },
    {
     "name": "stderr",
     "output_type": "stream",
     "text": [
      "SLF4J: Failed to load class \"org.slf4j.impl.StaticLoggerBinder\".\n",
      "SLF4J: Defaulting to no-operation (NOP) logger implementation\n",
      "SLF4J: See http://www.slf4j.org/codes.html#StaticLoggerBinder for further details.\n"
     ]
    },
    {
     "name": "stdout",
     "output_type": "stream",
     "text": [
      "Initialized soot\n",
      "Number of to debloate methods: 9\n",
      "/home/jkliu/Projects/CSAServer/tests/results/temp_debloatedapks/org.wikipedia.dev-50496.apk\n",
      "Removed [<org.wikipedia.places.PlacesFragment: void locationPermissionRequest$lambda$2(org.wikipedia.places.PlacesFragment,java.util.Map)>, <org.maplibre.android.location.permissions.PermissionsManager: void requestLocationPermissions(android.app.Activity,boolean,boolean)>, <org.wikipedia.places.PlacesFragment: void onViewCreated$lambda$25$lambda$24(org.wikipedia.places.PlacesFragment,org.maplibre.android.maps.MapLibreMap,org.maplibre.android.maps.Style)>, <org.maplibre.android.location.permissions.PermissionsManager: boolean isFineLocationPermissionGranted(android.content.Context)>, <org.maplibre.android.location.permissions.PermissionsManager: boolean isCoarseLocationPermissionGranted(android.content.Context)>, <androidx.appcompat.app.TwilightManager: android.location.Location getLastKnownLocation()>, <org.wikipedia.places.PlacesFragment: void onCreateView$lambda$13(org.wikipedia.places.PlacesFragment,android.view.View)>, <org.maplibre.android.location.permissions.PermissionsManager: void requestLocationPermissions(android.app.Activity)>, <org.wikipedia.places.PlacesFragment: boolean haveLocationPermissions()>] elements.\n",
      "Debloating time: 55952ms\n"
     ]
    }
   ],
   "source": [
    "# test get_acitivities\n",
    "app_name = \"org.wikipedia.dev\"\n",
    "version_code = \"50496\"\n",
    "result_dir = \"tests/results/temp_debloated\"\n",
    "\n",
    "if os.path.exists(result_dir):\n",
    "    os.system(f\"rm -r {result_dir}\")\n",
    "os.makedirs(result_dir)\n",
    "\n",
    "from datetime import datetime\n",
    "import os\n",
    "request = client.build_request(\n",
    "    method=\"post\",\n",
    "    url=f\"debloat_permission?package_name={app_name}&version_code={version_code}&permissions=android.permission.ACCESS_FINE_LOCATION,android.permission.ACCESS_COARSE_LOCATION\"\n",
    ")\n",
    "response = client.send(request)\n",
    "result = response.json()\n",
    "to_remove_methods = result[\"to_remove_methods\"]\n",
    "print(to_remove_methods)\n",
    "print(result[\"to_remove_permissions\"])\n",
    "\n",
    "current_time = datetime.now().strftime(\"%Y-%m-%d %H:%M:%S\")\n",
    "current_time = current_time.replace(\" \", \"_\")\n",
    "with open(f\"{result_dir}/{current_time}_to_remove.log\", \"w\") as write2filelog:\n",
    "    for method in to_remove_methods:\n",
    "        write2filelog.write(f\"{method}\\n\")\n",
    "\n",
    "cmd = f\"java -jar lib/debloater/target/debloater-1.0-SNAPSHOT-jar-with-dependencies.jar -toDebloatPath {result_dir}/{current_time}_to_remove.log -androidJar lib/platforms -apkPath apks/{app_name}-{version_code}.apk\"\n",
    "os.system(cmd)\n",
    "sign_align_new_apk(f\"{result_dir}/{app_name}-{version_code}.apk\")\n"
   ]
  },
  {
   "cell_type": "code",
   "execution_count": 3,
   "metadata": {},
   "outputs": [
    {
     "name": "stderr",
     "output_type": "stream",
     "text": [
      "Main        : INFO     Debloat permission android.permission.ACCESS_FINE_LOCATION,android.permission.ACCESS_COARSE_LOCATION for org.wikipedia.dev-50496\n",
      "MethodFinder: INFO     Debloat permission ['android.permission.ACCESS_FINE_LOCATION', 'android.permission.ACCESS_COARSE_LOCATION'] for org.wikipedia.dev-50496\n",
      "httpx       : INFO     HTTP Request: POST http://testserver/debloat_permission_test?package_name=org.wikipedia.dev&version_code=50496 \"HTTP/1.1 200 OK\"\n"
     ]
    },
    {
     "name": "stdout",
     "output_type": "stream",
     "text": [
      "{'to_remove_methods': ['<org.wikipedia.places.PlacesFragment: boolean haveLocationPermissions()>', '<org.wikipedia.places.PlacesFragment: void onViewCreated$lambda$25$lambda$24(org.wikipedia.places.PlacesFragment,org.maplibre.android.maps.MapLibreMap,org.maplibre.android.maps.Style)>', '<org.maplibre.android.location.permissions.PermissionsManager: void requestLocationPermissions(android.app.Activity)>', '<org.maplibre.android.location.permissions.PermissionsManager: boolean isCoarseLocationPermissionGranted(android.content.Context)>', '<org.maplibre.android.location.permissions.PermissionsManager: void requestLocationPermissions(android.app.Activity,boolean,boolean)>', '<org.wikipedia.places.PlacesFragment: void onCreateView$lambda$13(org.wikipedia.places.PlacesFragment,android.view.View)>', '<org.wikipedia.places.PlacesFragment: void locationPermissionRequest$lambda$2(org.wikipedia.places.PlacesFragment,java.util.Map)>', '<androidx.appcompat.app.TwilightManager: android.location.Location getLastKnownLocation()>', '<org.maplibre.android.location.permissions.PermissionsManager: boolean isFineLocationPermissionGranted(android.content.Context)>'], 'to_remove_permissions': ['android.permission.ACCESS_FINE_LOCATION', 'android.permission.ACCESS_COARSE_LOCATION']}\n"
     ]
    }
   ],
   "source": [
    "# test get_acitivities\n",
    "app_name = \"org.wikipedia.dev\"\n",
    "version_code = \"50496\"\n",
    "result_dir = \"tests/results/temp_debloated\"\n",
    "\n",
    "import json\n",
    "import os\n",
    "\n",
    "if os.path.exists(result_dir):\n",
    "    os.system(f\"rm -r {result_dir}\")\n",
    "os.makedirs(result_dir)\n",
    "\n",
    "permission_dict = {}\n",
    "permission_dict[\"permissions\"] = \"android.permission.ACCESS_FINE_LOCATION,android.permission.ACCESS_COARSE_LOCATION\"\n",
    "\n",
    "permission_json = json.dumps(permission_dict)\n",
    "\n",
    "from datetime import datetime\n",
    "import os\n",
    "request = client.build_request(\n",
    "    method=\"post\",\n",
    "    # url=f\"debloat_permission?package_name={app_name}&version_code={version_code}\",\n",
    "    url=f\"debloat_permission_test?package_name={app_name}&version_code={version_code}\",\n",
    "    # url=f\"debloat_permission_old?package_name={app_name}&version_code={version_code}&permissions=android.permission.ACCESS_FINE_LOCATION,android.permission.ACCESS_COARSE_LOCATION\",\n",
    "    content=permission_json\n",
    ")\n",
    "response = client.send(request)\n",
    "result = response.json()\n",
    "print(result)\n",
    "\n",
    "\n",
    "# to_remove_methods = result[\"to_remove_methods\"]\n",
    "# print(to_remove_methods)\n",
    "# print(result[\"to_remove_permissions\"])\n",
    "\n",
    "# current_time = datetime.now().strftime(\"%Y-%m-%d %H:%M:%S\")\n",
    "# current_time = current_time.replace(\" \", \"_\")\n",
    "# with open(f\"{result_dir}/{current_time}_to_remove.log\", \"w\") as write2filelog:\n",
    "#     for method in to_remove_methods:\n",
    "#         write2filelog.write(f\"{method}\\n\")\n",
    "\n",
    "# cmd = f\"java -jar lib/debloater/target/debloater-1.0-SNAPSHOT-jar-with-dependencies.jar -toDebloatPath {result_dir}/{current_time}_to_remove.log -androidJar lib/platforms -apkPath apks/{app_name}-{version_code}.apk\"\n",
    "# os.system(cmd)\n",
    "# print(\"*******************FINISH********************\")\n",
    "# sign_align_new_apk(f\"{result_dir}/{app_name}-{version_code}.apk\")\n"
   ]
  },
  {
   "cell_type": "markdown",
   "metadata": {},
   "source": []
  }
 ],
 "metadata": {
  "kernelspec": {
   "display_name": "venv",
   "language": "python",
   "name": "python3"
  },
  "language_info": {
   "codemirror_mode": {
    "name": "ipython",
    "version": 3
   },
   "file_extension": ".py",
   "mimetype": "text/x-python",
   "name": "python",
   "nbconvert_exporter": "python",
   "pygments_lexer": "ipython3",
   "version": "3.10.12"
  }
 },
 "nbformat": 4,
 "nbformat_minor": 2
}
