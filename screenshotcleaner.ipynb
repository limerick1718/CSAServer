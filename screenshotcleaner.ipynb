{
 "cells": [
  {
   "cell_type": "code",
   "execution_count": 1,
   "id": "initial_id",
   "metadata": {
    "collapsed": true
   },
   "outputs": [
    {
     "name": "stdout",
     "output_type": "stream",
     "text": [
      "/home/jkliu/Projects/CSAServer\n"
     ]
    },
    {
     "name": "stderr",
     "output_type": "stream",
     "text": [
      "/home/jkliu/Projects/CSAServer/venv/lib/python3.10/site-packages/IPython/core/magics/osm.py:417: UserWarning: This is now an optional IPython functionality, setting dhist requires you to install the `pickleshare` library.\n",
      "  self.shell.db['dhist'] = compress_dhist(dhist)[-100:]\n"
     ]
    }
   ],
   "source": [
    "%cd /home/jkliu/Projects/CSAServer"
   ]
  },
  {
   "cell_type": "code",
   "execution_count": 9,
   "id": "0e74a43c",
   "metadata": {},
   "outputs": [],
   "source": [
    "import os\n",
    "\n",
    "def clean_screenshots(dir: str, package_name: str):\n",
    "    images = os.listdir(dir)\n",
    "    for image in images:\n",
    "        # if image.find(\"}\"):\n",
    "        #     new_file_name = package_name + image.split(\"}\")[0] + \".png\"\n",
    "        #     cmd = f\"mv {dir}/{image} {dir}/{new_file_name}\"\n",
    "        #     print(cmd)\n",
    "        #     os.system(cmd)\n",
    "        if image.find(\".png.png\"):\n",
    "            new_file_name = image.replace(\".png.png\", \".png\")\n",
    "            os.rename(f\"{dir}/{image}\", f\"{dir}/{new_file_name}\")\n",
    "            # print(\"rename \")\n",
    "\n",
    "clean_screenshots(\"/home/jkliu/Projects/CSAServer/results/screenshots/com.wordwebsoftware.android.wordweb-50\", \"com.wordwebsoftware.android.wordweb\")"
   ]
  },
  {
   "cell_type": "code",
   "execution_count": 5,
   "id": "72c61355",
   "metadata": {},
   "outputs": [
    {
     "name": "stdout",
     "output_type": "stream",
     "text": [
      "{'org.wikipedia.places.PlacesActivity.png'}\n"
     ]
    }
   ],
   "source": [
    "old_images = set(os.listdir(\"/home/jkliu/Projects/CSAServer/results/screenshots/org.wikipedia.dev-50480\"))\n",
    "new_images = set(os.listdir(\"/home/jkliu/Projects/CSAServer/results/screenshots/org.wikipedia.dev-50496\"))\n",
    "\n",
    "missing_images = old_images - new_images\n",
    "print(missing_images)"
   ]
  }
 ],
 "metadata": {
  "kernelspec": {
   "display_name": "venv",
   "language": "python",
   "name": "python3"
  },
  "language_info": {
   "codemirror_mode": {
    "name": "ipython",
    "version": 3
   },
   "file_extension": ".py",
   "mimetype": "text/x-python",
   "name": "python",
   "nbconvert_exporter": "python",
   "pygments_lexer": "ipython3",
   "version": "3.10.12"
  }
 },
 "nbformat": 4,
 "nbformat_minor": 5
}
