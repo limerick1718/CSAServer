{
 "cells": [
  {
   "cell_type": "code",
   "execution_count": 2,
   "metadata": {},
   "outputs": [
    {
     "name": "stdout",
     "output_type": "stream",
     "text": [
      "/home/jkliu/Projects/CSAServer\n"
     ]
    },
    {
     "name": "stderr",
     "output_type": "stream",
     "text": [
      "/home/jkliu/Projects/CSAServer/venv/lib/python3.10/site-packages/IPython/core/magics/osm.py:417: UserWarning: This is now an optional IPython functionality, setting dhist requires you to install the `pickleshare` library.\n",
      "  self.shell.db['dhist'] = compress_dhist(dhist)[-100:]\n"
     ]
    }
   ],
   "source": [
    "%cd /home/jkliu/Projects/CSAServer"
   ]
  },
  {
   "cell_type": "code",
   "execution_count": 5,
   "metadata": {},
   "outputs": [
    {
     "name": "stdout",
     "output_type": "stream",
     "text": [
      "cp results/cg/com.socialnmobile.dictapps.notepad.color.note-15600/permission_methods.txt results/permission_methods/com.socialnmobile.dictapps.notepad.color.note-15600.txt\n",
      "cp results/cg/com.amaze.filemanager-117/permission_methods.txt results/permission_methods/com.amaze.filemanager-117.txt\n",
      "cp results/cg/com.imdb.mobile-109070200/permission_methods.txt results/permission_methods/com.imdb.mobile-109070200.txt\n",
      "cp results/cg/com.shaiban.audioplayer.mplayer-1007102000/permission_methods.txt results/permission_methods/com.shaiban.audioplayer.mplayer-1007102000.txt\n",
      "cp results/cg/org.woheller69.spritpreise-24/permission_methods.txt results/permission_methods/org.woheller69.spritpreise-24.txt\n",
      "cp results/cg/org.wikipedia.alpha-50476/permission_methods.txt results/permission_methods/org.wikipedia.alpha-50476.txt\n",
      "cp results/cg/video.downloader.videodownloader-128/permission_methods.txt results/permission_methods/video.downloader.videodownloader-128.txt\n",
      "cp results/cg/com.adsk.sketchbook-454083/permission_methods.txt results/permission_methods/com.adsk.sketchbook-454083.txt\n",
      "cp results/cg/org.mozilla.firefox-2016048879/permission_methods.txt results/permission_methods/org.mozilla.firefox-2016048879.txt\n",
      "cp results/cg/com.dictionary-629/permission_methods.txt results/permission_methods/com.dictionary-629.txt\n",
      "cp results/cg/com.wordwebsoftware.android.wordweb-50/permission_methods.txt results/permission_methods/com.wordwebsoftware.android.wordweb-50.txt\n",
      "cp results/cg/org.wikipedia.dev-50496/permission_methods.txt results/permission_methods/org.wikipedia.dev-50496.txt\n",
      "cp results/cg/com.zhiliaoapp.musically-2022903010/permission_methods.txt results/permission_methods/com.zhiliaoapp.musically-2022903010.txt\n",
      "cp results/cg/com.accuweather.android-200300002/permission_methods.txt results/permission_methods/com.accuweather.android-200300002.txt\n",
      "cp results/cg/todolist.scheduleplanner.dailyplanner.todo.reminders-1000244/permission_methods.txt results/permission_methods/todolist.scheduleplanner.dailyplanner.todo.reminders-1000244.txt\n",
      "No permission file\n",
      "cp results/cg/com.mxtech.videoplayer.ad-2001002445/permission_methods.txt results/permission_methods/com.mxtech.videoplayer.ad-2001002445.txt\n",
      "cp results/cg/org.wikipedia.dev-50480/permission_methods.txt results/permission_methods/org.wikipedia.dev-50480.txt\n",
      "No permission file\n",
      "cp results/cg/org.wikipedia.dev-50443/permission_methods.txt results/permission_methods/org.wikipedia.dev-50443.txt\n",
      "cp results/cg/org.woheller69.spritpreise-18/permission_methods.txt results/permission_methods/org.woheller69.spritpreise-18.txt\n"
     ]
    }
   ],
   "source": [
    "result_dir = \"results/cg\"\n",
    "\n",
    "import os\n",
    "\n",
    "for apk_dir in os.listdir(result_dir):\n",
    "    app_name = apk_dir\n",
    "    app_dir = os.path.join(result_dir, apk_dir)\n",
    "    if not os.path.isdir(os.path.join(result_dir, apk_dir)):\n",
    "        print(\"Not a directory\")\n",
    "        continue\n",
    "    permission_file = os.path.join(app_dir, \"permission_methods.txt\")\n",
    "    if not os.path.isfile(permission_file):\n",
    "        print(\"No permission file\")\n",
    "        continue\n",
    "    cmd = f\"cp {permission_file} results/permission_methods/{app_name}.txt\"\n",
    "    print(cmd)\n",
    "    os.system(cmd)"
   ]
  }
 ],
 "metadata": {
  "kernelspec": {
   "display_name": "venv",
   "language": "python",
   "name": "python3"
  },
  "language_info": {
   "codemirror_mode": {
    "name": "ipython",
    "version": 3
   },
   "file_extension": ".py",
   "mimetype": "text/x-python",
   "name": "python",
   "nbconvert_exporter": "python",
   "pygments_lexer": "ipython3",
   "version": "3.10.12"
  }
 },
 "nbformat": 4,
 "nbformat_minor": 2
}
