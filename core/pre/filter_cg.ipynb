{
 "cells": [
  {
   "cell_type": "code",
   "execution_count": 3,
   "id": "initial_id",
   "metadata": {
    "ExecuteTime": {
     "end_time": "2024-10-12T12:51:37.548271Z",
     "start_time": "2024-10-12T12:51:37.526423Z"
    },
    "collapsed": true
   },
   "outputs": [
    {
     "name": "stdout",
     "output_type": "stream",
     "text": [
      "/home/jkliu/Projects/CSAServer\n"
     ]
    }
   ],
   "source": [
    "%cd /home/jkliu/Projects/CSAServer"
   ]
  },
  {
   "cell_type": "code",
   "execution_count": 13,
   "id": "60b6ae67f5f9ba59",
   "metadata": {
    "ExecuteTime": {
     "end_time": "2024-10-12T13:03:24.209545Z",
     "start_time": "2024-10-12T13:03:24.200675Z"
    }
   },
   "outputs": [
    {
     "name": "stdout",
     "output_type": "stream",
     "text": [
      "com.socialnmobile.dictapps.notepad.color.note-15600\n"
     ]
    },
    {
     "name": "stdout",
     "output_type": "stream",
     "text": [
      "package name: com.socialnmobile.dictapps.notepad.color.note, CG size is 9. The whole CG size is 403429\n",
      "package name: com.socialnmobile.dictapps.notepad.color, CG size is 9. The whole CG size is 403429\n",
      "package name: com.socialnmobile.dictapps.notepad, CG size is 9. The whole CG size is 403429\n",
      "package name: com.socialnmobile.dictapps, CG size is 9. The whole CG size is 403429\n",
      "package name: com.socialnmobile, CG size is 22464. The whole CG size is 403429\n",
      "com.shaiban.audioplayer.mplayer-1007102000\n",
      "package name: com.shaiban.audioplayer.mplayer, CG size is 1254538. The whole CG size is 9189246\n",
      "video.downloader.videodownloader-128\n",
      "package name: video.downloader.videodownloader, CG size is 8166. The whole CG size is 3057843\n",
      "com.adsk.sketchbook-454083\n",
      "package name: com.adsk.sketchbook, CG size is 25981. The whole CG size is 768587\n",
      "org.mozilla.firefox-2016048879\n",
      "package name: org.mozilla.firefox, CG size is 0. The whole CG size is 6272354\n",
      "package name: org.mozilla, CG size is 3709243. The whole CG size is 6272354\n",
      "com.dictionary-629\n",
      "package name: com.dictionary, CG size is 14208. The whole CG size is 1457965\n",
      "com.accuweather.android-200300002\n",
      "package name: com.accuweather.android, CG size is 2277141. The whole CG size is 10672050\n",
      "todolist.scheduleplanner.dailyplanner.todo.reminders-1000244\n",
      "package name: todolist.scheduleplanner.dailyplanner.todo.reminders, CG size is 0. The whole CG size is 7818916\n",
      "package name: todolist.scheduleplanner.dailyplanner.todo, CG size is 0. The whole CG size is 7818916\n",
      "package name: todolist.scheduleplanner.dailyplanner, CG size is 0. The whole CG size is 7818916\n",
      "package name: todolist.scheduleplanner, CG size is 0. The whole CG size is 7818916\n",
      "package name: todolist, CG size is 275388. The whole CG size is 7818916\n"
     ]
    }
   ],
   "source": [
    "import os\n",
    "\n",
    "cg_dir = \"results/cg\"\n",
    "\n",
    "for app in os.listdir(cg_dir):\n",
    "    cg_file = f\"{cg_dir}/{app}/CallGraphInfo/cg_raw.txt\"\n",
    "    if not os.path.exists(cg_file):\n",
    "        continue\n",
    "    print(app)\n",
    "    package = app.split(\"-\")[0]\n",
    "    while True:\n",
    "        all = 0\n",
    "        app_cg = set()\n",
    "        with open(cg_file, \"r\") as f:\n",
    "            lines = f.readlines()\n",
    "            for line in lines:\n",
    "                all += 1\n",
    "                line = line.strip()\n",
    "                if package in line:\n",
    "                    app_cg.add(line)\n",
    "        print(\n",
    "            f\"package name: {package}, CG size is {len(app_cg)}. The whole CG size is {all}\"\n",
    "        )\n",
    "        if len(app_cg) > 100:\n",
    "            break\n",
    "        else:\n",
    "            s = package.split(\".\")\n",
    "            package = \".\".join(s[:-1])\n",
    "    new_cg_file = f\"{cg_dir}/{app}/CallGraphInfo/cg.txt\"\n",
    "    with open(new_cg_file, \"w\") as f:\n",
    "        for line in app_cg:\n",
    "            f.write(line + \"\\n\")"
   ]
  },
  {
   "cell_type": "code",
   "execution_count": null,
   "id": "883ffe45",
   "metadata": {},
   "outputs": [],
   "source": [
    "``"
   ]
  }
 ],
 "metadata": {
  "kernelspec": {
   "display_name": "venv",
   "language": "python",
   "name": "python3"
  },
  "language_info": {
   "codemirror_mode": {
    "name": "ipython",
    "version": 3
   },
   "file_extension": ".py",
   "mimetype": "text/x-python",
   "name": "python",
   "nbconvert_exporter": "python",
   "pygments_lexer": "ipython3",
   "version": "3.10.12"
  }
 },
 "nbformat": 4,
 "nbformat_minor": 5
}
